{
  "cells": [
    {
      "cell_type": "markdown",
      "source": [
        "Loading the necessary libraries"
      ],
      "metadata": {
        "id": "OExFTgbH2RL5"
      }
    },
    {
      "cell_type": "code",
      "execution_count": 1,
      "metadata": {
        "id": "Fr17_u_oPDjQ"
      },
      "outputs": [],
      "source": [
        "import pandas as pd\n",
        "import numpy as np\n",
        "import seaborn as sb"
      ]
    },
    {
      "cell_type": "markdown",
      "source": [
        "Reading the CSV file into a Pandas DataFrame"
      ],
      "metadata": {
        "id": "ry0KCdj72Spu"
      }
    },
    {
      "cell_type": "code",
      "execution_count": 2,
      "metadata": {
        "colab": {
          "base_uri": "https://localhost:8080/",
          "height": 573
        },
        "id": "XXIugnhlPT_C",
        "outputId": "c4d48d6d-9b90-48c3-f079-dca313fcb6b4"
      },
      "outputs": [
        {
          "output_type": "execute_result",
          "data": {
            "text/plain": [
              "  Company_name                                        Description  Ratings  \\\n",
              "0          TCS  IT Services & Consulting | 1 Lakh+ Employees |...      3.8   \n",
              "1    Accenture  IT Services & Consulting | 1 Lakh+ Employees |...      4.0   \n",
              "2    Cognizant  IT Services & Consulting | 1 Lakh+ Employees |...      3.9   \n",
              "3        Wipro  IT Services & Consulting | 1 Lakh+ Employees |...      3.8   \n",
              "4    Capgemini  IT Services & Consulting | 1 Lakh+ Employees |...      3.9   \n",
              "\n",
              "                                    Highly_rated_for  \\\n",
              "0                    Job Security, Work Life Balance   \n",
              "1  Company Culture, Skill Development / Learning,...   \n",
              "2                       Skill Development / Learning   \n",
              "3                                       Job Security   \n",
              "4  Job Security, Work Life Balance, Skill Develop...   \n",
              "\n",
              "                        Critically_rated_for Total_reviews Avg_salary  \\\n",
              "0  Promotions / Appraisal, Salary & Benefits         73.1k     856.9k   \n",
              "1                                        NaN         46.4k     584.6k   \n",
              "2                     Promotions / Appraisal         41.7k     561.5k   \n",
              "3  Promotions / Appraisal, Salary & Benefits         39.2k     427.4k   \n",
              "4  Promotions / Appraisal, Salary & Benefits           34k     414.4k   \n",
              "\n",
              "  Interviews_taken Total_jobs_available Total_benefits  \n",
              "0             6.1k                  847          11.5k  \n",
              "1             4.3k                 9.9k           7.1k  \n",
              "2             3.6k                  460           5.8k  \n",
              "3             3.7k                  405             5k  \n",
              "4             2.8k                  719             4k  "
            ],
            "text/html": [
              "\n",
              "  <div id=\"df-cb6c4dbd-f890-469f-b0f6-edabc48fcc3d\" class=\"colab-df-container\">\n",
              "    <div>\n",
              "<style scoped>\n",
              "    .dataframe tbody tr th:only-of-type {\n",
              "        vertical-align: middle;\n",
              "    }\n",
              "\n",
              "    .dataframe tbody tr th {\n",
              "        vertical-align: top;\n",
              "    }\n",
              "\n",
              "    .dataframe thead th {\n",
              "        text-align: right;\n",
              "    }\n",
              "</style>\n",
              "<table border=\"1\" class=\"dataframe\">\n",
              "  <thead>\n",
              "    <tr style=\"text-align: right;\">\n",
              "      <th></th>\n",
              "      <th>Company_name</th>\n",
              "      <th>Description</th>\n",
              "      <th>Ratings</th>\n",
              "      <th>Highly_rated_for</th>\n",
              "      <th>Critically_rated_for</th>\n",
              "      <th>Total_reviews</th>\n",
              "      <th>Avg_salary</th>\n",
              "      <th>Interviews_taken</th>\n",
              "      <th>Total_jobs_available</th>\n",
              "      <th>Total_benefits</th>\n",
              "    </tr>\n",
              "  </thead>\n",
              "  <tbody>\n",
              "    <tr>\n",
              "      <th>0</th>\n",
              "      <td>TCS</td>\n",
              "      <td>IT Services &amp; Consulting | 1 Lakh+ Employees |...</td>\n",
              "      <td>3.8</td>\n",
              "      <td>Job Security, Work Life Balance</td>\n",
              "      <td>Promotions / Appraisal, Salary &amp; Benefits</td>\n",
              "      <td>73.1k</td>\n",
              "      <td>856.9k</td>\n",
              "      <td>6.1k</td>\n",
              "      <td>847</td>\n",
              "      <td>11.5k</td>\n",
              "    </tr>\n",
              "    <tr>\n",
              "      <th>1</th>\n",
              "      <td>Accenture</td>\n",
              "      <td>IT Services &amp; Consulting | 1 Lakh+ Employees |...</td>\n",
              "      <td>4.0</td>\n",
              "      <td>Company Culture, Skill Development / Learning,...</td>\n",
              "      <td>NaN</td>\n",
              "      <td>46.4k</td>\n",
              "      <td>584.6k</td>\n",
              "      <td>4.3k</td>\n",
              "      <td>9.9k</td>\n",
              "      <td>7.1k</td>\n",
              "    </tr>\n",
              "    <tr>\n",
              "      <th>2</th>\n",
              "      <td>Cognizant</td>\n",
              "      <td>IT Services &amp; Consulting | 1 Lakh+ Employees |...</td>\n",
              "      <td>3.9</td>\n",
              "      <td>Skill Development / Learning</td>\n",
              "      <td>Promotions / Appraisal</td>\n",
              "      <td>41.7k</td>\n",
              "      <td>561.5k</td>\n",
              "      <td>3.6k</td>\n",
              "      <td>460</td>\n",
              "      <td>5.8k</td>\n",
              "    </tr>\n",
              "    <tr>\n",
              "      <th>3</th>\n",
              "      <td>Wipro</td>\n",
              "      <td>IT Services &amp; Consulting | 1 Lakh+ Employees |...</td>\n",
              "      <td>3.8</td>\n",
              "      <td>Job Security</td>\n",
              "      <td>Promotions / Appraisal, Salary &amp; Benefits</td>\n",
              "      <td>39.2k</td>\n",
              "      <td>427.4k</td>\n",
              "      <td>3.7k</td>\n",
              "      <td>405</td>\n",
              "      <td>5k</td>\n",
              "    </tr>\n",
              "    <tr>\n",
              "      <th>4</th>\n",
              "      <td>Capgemini</td>\n",
              "      <td>IT Services &amp; Consulting | 1 Lakh+ Employees |...</td>\n",
              "      <td>3.9</td>\n",
              "      <td>Job Security, Work Life Balance, Skill Develop...</td>\n",
              "      <td>Promotions / Appraisal, Salary &amp; Benefits</td>\n",
              "      <td>34k</td>\n",
              "      <td>414.4k</td>\n",
              "      <td>2.8k</td>\n",
              "      <td>719</td>\n",
              "      <td>4k</td>\n",
              "    </tr>\n",
              "  </tbody>\n",
              "</table>\n",
              "</div>\n",
              "    <div class=\"colab-df-buttons\">\n",
              "\n",
              "  <div class=\"colab-df-container\">\n",
              "    <button class=\"colab-df-convert\" onclick=\"convertToInteractive('df-cb6c4dbd-f890-469f-b0f6-edabc48fcc3d')\"\n",
              "            title=\"Convert this dataframe to an interactive table.\"\n",
              "            style=\"display:none;\">\n",
              "\n",
              "  <svg xmlns=\"http://www.w3.org/2000/svg\" height=\"24px\" viewBox=\"0 -960 960 960\">\n",
              "    <path d=\"M120-120v-720h720v720H120Zm60-500h600v-160H180v160Zm220 220h160v-160H400v160Zm0 220h160v-160H400v160ZM180-400h160v-160H180v160Zm440 0h160v-160H620v160ZM180-180h160v-160H180v160Zm440 0h160v-160H620v160Z\"/>\n",
              "  </svg>\n",
              "    </button>\n",
              "\n",
              "  <style>\n",
              "    .colab-df-container {\n",
              "      display:flex;\n",
              "      gap: 12px;\n",
              "    }\n",
              "\n",
              "    .colab-df-convert {\n",
              "      background-color: #E8F0FE;\n",
              "      border: none;\n",
              "      border-radius: 50%;\n",
              "      cursor: pointer;\n",
              "      display: none;\n",
              "      fill: #1967D2;\n",
              "      height: 32px;\n",
              "      padding: 0 0 0 0;\n",
              "      width: 32px;\n",
              "    }\n",
              "\n",
              "    .colab-df-convert:hover {\n",
              "      background-color: #E2EBFA;\n",
              "      box-shadow: 0px 1px 2px rgba(60, 64, 67, 0.3), 0px 1px 3px 1px rgba(60, 64, 67, 0.15);\n",
              "      fill: #174EA6;\n",
              "    }\n",
              "\n",
              "    .colab-df-buttons div {\n",
              "      margin-bottom: 4px;\n",
              "    }\n",
              "\n",
              "    [theme=dark] .colab-df-convert {\n",
              "      background-color: #3B4455;\n",
              "      fill: #D2E3FC;\n",
              "    }\n",
              "\n",
              "    [theme=dark] .colab-df-convert:hover {\n",
              "      background-color: #434B5C;\n",
              "      box-shadow: 0px 1px 3px 1px rgba(0, 0, 0, 0.15);\n",
              "      filter: drop-shadow(0px 1px 2px rgba(0, 0, 0, 0.3));\n",
              "      fill: #FFFFFF;\n",
              "    }\n",
              "  </style>\n",
              "\n",
              "    <script>\n",
              "      const buttonEl =\n",
              "        document.querySelector('#df-cb6c4dbd-f890-469f-b0f6-edabc48fcc3d button.colab-df-convert');\n",
              "      buttonEl.style.display =\n",
              "        google.colab.kernel.accessAllowed ? 'block' : 'none';\n",
              "\n",
              "      async function convertToInteractive(key) {\n",
              "        const element = document.querySelector('#df-cb6c4dbd-f890-469f-b0f6-edabc48fcc3d');\n",
              "        const dataTable =\n",
              "          await google.colab.kernel.invokeFunction('convertToInteractive',\n",
              "                                                    [key], {});\n",
              "        if (!dataTable) return;\n",
              "\n",
              "        const docLinkHtml = 'Like what you see? Visit the ' +\n",
              "          '<a target=\"_blank\" href=https://colab.research.google.com/notebooks/data_table.ipynb>data table notebook</a>'\n",
              "          + ' to learn more about interactive tables.';\n",
              "        element.innerHTML = '';\n",
              "        dataTable['output_type'] = 'display_data';\n",
              "        await google.colab.output.renderOutput(dataTable, element);\n",
              "        const docLink = document.createElement('div');\n",
              "        docLink.innerHTML = docLinkHtml;\n",
              "        element.appendChild(docLink);\n",
              "      }\n",
              "    </script>\n",
              "  </div>\n",
              "\n",
              "\n",
              "<div id=\"df-30fdbe54-b1ba-4f2f-b29a-059ade641578\">\n",
              "  <button class=\"colab-df-quickchart\" onclick=\"quickchart('df-30fdbe54-b1ba-4f2f-b29a-059ade641578')\"\n",
              "            title=\"Suggest charts\"\n",
              "            style=\"display:none;\">\n",
              "\n",
              "<svg xmlns=\"http://www.w3.org/2000/svg\" height=\"24px\"viewBox=\"0 0 24 24\"\n",
              "     width=\"24px\">\n",
              "    <g>\n",
              "        <path d=\"M19 3H5c-1.1 0-2 .9-2 2v14c0 1.1.9 2 2 2h14c1.1 0 2-.9 2-2V5c0-1.1-.9-2-2-2zM9 17H7v-7h2v7zm4 0h-2V7h2v10zm4 0h-2v-4h2v4z\"/>\n",
              "    </g>\n",
              "</svg>\n",
              "  </button>\n",
              "\n",
              "<style>\n",
              "  .colab-df-quickchart {\n",
              "      --bg-color: #E8F0FE;\n",
              "      --fill-color: #1967D2;\n",
              "      --hover-bg-color: #E2EBFA;\n",
              "      --hover-fill-color: #174EA6;\n",
              "      --disabled-fill-color: #AAA;\n",
              "      --disabled-bg-color: #DDD;\n",
              "  }\n",
              "\n",
              "  [theme=dark] .colab-df-quickchart {\n",
              "      --bg-color: #3B4455;\n",
              "      --fill-color: #D2E3FC;\n",
              "      --hover-bg-color: #434B5C;\n",
              "      --hover-fill-color: #FFFFFF;\n",
              "      --disabled-bg-color: #3B4455;\n",
              "      --disabled-fill-color: #666;\n",
              "  }\n",
              "\n",
              "  .colab-df-quickchart {\n",
              "    background-color: var(--bg-color);\n",
              "    border: none;\n",
              "    border-radius: 50%;\n",
              "    cursor: pointer;\n",
              "    display: none;\n",
              "    fill: var(--fill-color);\n",
              "    height: 32px;\n",
              "    padding: 0;\n",
              "    width: 32px;\n",
              "  }\n",
              "\n",
              "  .colab-df-quickchart:hover {\n",
              "    background-color: var(--hover-bg-color);\n",
              "    box-shadow: 0 1px 2px rgba(60, 64, 67, 0.3), 0 1px 3px 1px rgba(60, 64, 67, 0.15);\n",
              "    fill: var(--button-hover-fill-color);\n",
              "  }\n",
              "\n",
              "  .colab-df-quickchart-complete:disabled,\n",
              "  .colab-df-quickchart-complete:disabled:hover {\n",
              "    background-color: var(--disabled-bg-color);\n",
              "    fill: var(--disabled-fill-color);\n",
              "    box-shadow: none;\n",
              "  }\n",
              "\n",
              "  .colab-df-spinner {\n",
              "    border: 2px solid var(--fill-color);\n",
              "    border-color: transparent;\n",
              "    border-bottom-color: var(--fill-color);\n",
              "    animation:\n",
              "      spin 1s steps(1) infinite;\n",
              "  }\n",
              "\n",
              "  @keyframes spin {\n",
              "    0% {\n",
              "      border-color: transparent;\n",
              "      border-bottom-color: var(--fill-color);\n",
              "      border-left-color: var(--fill-color);\n",
              "    }\n",
              "    20% {\n",
              "      border-color: transparent;\n",
              "      border-left-color: var(--fill-color);\n",
              "      border-top-color: var(--fill-color);\n",
              "    }\n",
              "    30% {\n",
              "      border-color: transparent;\n",
              "      border-left-color: var(--fill-color);\n",
              "      border-top-color: var(--fill-color);\n",
              "      border-right-color: var(--fill-color);\n",
              "    }\n",
              "    40% {\n",
              "      border-color: transparent;\n",
              "      border-right-color: var(--fill-color);\n",
              "      border-top-color: var(--fill-color);\n",
              "    }\n",
              "    60% {\n",
              "      border-color: transparent;\n",
              "      border-right-color: var(--fill-color);\n",
              "    }\n",
              "    80% {\n",
              "      border-color: transparent;\n",
              "      border-right-color: var(--fill-color);\n",
              "      border-bottom-color: var(--fill-color);\n",
              "    }\n",
              "    90% {\n",
              "      border-color: transparent;\n",
              "      border-bottom-color: var(--fill-color);\n",
              "    }\n",
              "  }\n",
              "</style>\n",
              "\n",
              "  <script>\n",
              "    async function quickchart(key) {\n",
              "      const quickchartButtonEl =\n",
              "        document.querySelector('#' + key + ' button');\n",
              "      quickchartButtonEl.disabled = true;  // To prevent multiple clicks.\n",
              "      quickchartButtonEl.classList.add('colab-df-spinner');\n",
              "      try {\n",
              "        const charts = await google.colab.kernel.invokeFunction(\n",
              "            'suggestCharts', [key], {});\n",
              "      } catch (error) {\n",
              "        console.error('Error during call to suggestCharts:', error);\n",
              "      }\n",
              "      quickchartButtonEl.classList.remove('colab-df-spinner');\n",
              "      quickchartButtonEl.classList.add('colab-df-quickchart-complete');\n",
              "    }\n",
              "    (() => {\n",
              "      let quickchartButtonEl =\n",
              "        document.querySelector('#df-30fdbe54-b1ba-4f2f-b29a-059ade641578 button');\n",
              "      quickchartButtonEl.style.display =\n",
              "        google.colab.kernel.accessAllowed ? 'block' : 'none';\n",
              "    })();\n",
              "  </script>\n",
              "</div>\n",
              "\n",
              "    </div>\n",
              "  </div>\n"
            ],
            "application/vnd.google.colaboratory.intrinsic+json": {
              "type": "dataframe",
              "variable_name": "df",
              "summary": "{\n  \"name\": \"df\",\n  \"rows\": 10000,\n  \"fields\": [\n    {\n      \"column\": \"Company_name\",\n      \"properties\": {\n        \"dtype\": \"string\",\n        \"num_unique_values\": 9355,\n        \"samples\": [\n          \"Alphamed Formulations\",\n          \"Fosroc Chemicals India\",\n          \"Mindcrest\"\n        ],\n        \"semantic_type\": \"\",\n        \"description\": \"\"\n      }\n    },\n    {\n      \"column\": \"Description\",\n      \"properties\": {\n        \"dtype\": \"string\",\n        \"num_unique_values\": 9330,\n        \"samples\": [\n          \"Real Estate | 501-1k Employees | 23 years old | Pune +1 more\",\n          \"Auto Components | 201-500 Employees | 26 years old | Pune +9 more\",\n          \"Education & Training | 1k-5k Employees | 8 years old | Singapore +16 more\"\n        ],\n        \"semantic_type\": \"\",\n        \"description\": \"\"\n      }\n    },\n    {\n      \"column\": \"Ratings\",\n      \"properties\": {\n        \"dtype\": \"number\",\n        \"std\": 0.3858936476423641,\n        \"min\": 1.3,\n        \"max\": 5.0,\n        \"num_unique_values\": 34,\n        \"samples\": [\n          3.4,\n          3.0,\n          2.3\n        ],\n        \"semantic_type\": \"\",\n        \"description\": \"\"\n      }\n    },\n    {\n      \"column\": \"Highly_rated_for\",\n      \"properties\": {\n        \"dtype\": \"category\",\n        \"num_unique_values\": 253,\n        \"samples\": [\n          \"Work Life Balance, Company Culture, Promotions / Appraisal\",\n          \"Job Security, Skill Development / Learning, Company Culture\",\n          \"Skill Development / Learning, Company Culture, Work Satisfaction\"\n        ],\n        \"semantic_type\": \"\",\n        \"description\": \"\"\n      }\n    },\n    {\n      \"column\": \"Critically_rated_for\",\n      \"properties\": {\n        \"dtype\": \"category\",\n        \"num_unique_values\": 137,\n        \"samples\": [\n          \"Skill Development / Learning, Promotions / Appraisal, Job Security\",\n          \"Company Culture, Salary & Benefits\",\n          \"Promotions / Appraisal, Salary & Benefits, Company Culture\"\n        ],\n        \"semantic_type\": \"\",\n        \"description\": \"\"\n      }\n    },\n    {\n      \"column\": \"Total_reviews\",\n      \"properties\": {\n        \"dtype\": \"category\",\n        \"num_unique_values\": 889,\n        \"samples\": [\n          \"715\",\n          \"529\",\n          \"7k\"\n        ],\n        \"semantic_type\": \"\",\n        \"description\": \"\"\n      }\n    },\n    {\n      \"column\": \"Avg_salary\",\n      \"properties\": {\n        \"dtype\": \"category\",\n        \"num_unique_values\": 1229,\n        \"samples\": [\n          \"432\",\n          \"441\",\n          \"11.8k\"\n        ],\n        \"semantic_type\": \"\",\n        \"description\": \"\"\n      }\n    },\n    {\n      \"column\": \"Interviews_taken\",\n      \"properties\": {\n        \"dtype\": \"category\",\n        \"num_unique_values\": 306,\n        \"samples\": [\n          \"83\",\n          \"116\",\n          \"111\"\n        ],\n        \"semantic_type\": \"\",\n        \"description\": \"\"\n      }\n    },\n    {\n      \"column\": \"Total_jobs_available\",\n      \"properties\": {\n        \"dtype\": \"category\",\n        \"num_unique_values\": 309,\n        \"samples\": [\n          \"102\",\n          \"782\",\n          \"116\"\n        ],\n        \"semantic_type\": \"\",\n        \"description\": \"\"\n      }\n    },\n    {\n      \"column\": \"Total_benefits\",\n      \"properties\": {\n        \"dtype\": \"category\",\n        \"num_unique_values\": 471,\n        \"samples\": [\n          \"698\",\n          \"513\",\n          \"880\"\n        ],\n        \"semantic_type\": \"\",\n        \"description\": \"\"\n      }\n    }\n  ]\n}"
            }
          },
          "metadata": {},
          "execution_count": 2
        }
      ],
      "source": [
        "df =pd.read_csv('companies.csv')\n",
        "df.head()"
      ]
    },
    {
      "cell_type": "markdown",
      "source": [
        "Count the number of null values in each column"
      ],
      "metadata": {
        "id": "Ksc-SlCY2eyW"
      }
    },
    {
      "cell_type": "code",
      "execution_count": 3,
      "metadata": {
        "colab": {
          "base_uri": "https://localhost:8080/"
        },
        "id": "vKcAzyMKQIrm",
        "outputId": "9df29d81-658d-42d3-c873-69296eb14dc4"
      },
      "outputs": [
        {
          "output_type": "execute_result",
          "data": {
            "text/plain": [
              "Company_name               0\n",
              "Description                0\n",
              "Ratings                    0\n",
              "Highly_rated_for          92\n",
              "Critically_rated_for    7193\n",
              "Total_reviews              0\n",
              "Avg_salary                 0\n",
              "Interviews_taken           0\n",
              "Total_jobs_available       0\n",
              "Total_benefits             0\n",
              "dtype: int64"
            ]
          },
          "metadata": {},
          "execution_count": 3
        }
      ],
      "source": [
        "df.isnull().sum()\n",
        "# number of null values that each columns contains"
      ]
    },
    {
      "cell_type": "code",
      "execution_count": null,
      "metadata": {
        "colab": {
          "base_uri": "https://localhost:8080/",
          "height": 578
        },
        "id": "ftRRBzPReNel",
        "outputId": "2dc06406-3dff-4377-92ec-a7560240e6cb"
      },
      "outputs": [
        {
          "output_type": "execute_result",
          "data": {
            "text/plain": [
              "<Axes: >"
            ]
          },
          "metadata": {},
          "execution_count": 4
        },
        {
          "output_type": "display_data",
          "data": {
            "text/plain": [
              "<Figure size 640x480 with 2 Axes>"
            ],
            "image/png": "[encoded data removed]"
          },
          "metadata": {}
        }
      ],
      "source": [
        "sb.heatmap(df.isnull())\n",
        "# heatmap of null values in each columns"
      ]
    },
    {
      "cell_type": "markdown",
      "source": [
        "Fill the null values in the 'Highly_rated_for' and 'Critically_rated_for' columns with the most frequent value in each column"
      ],
      "metadata": {
        "id": "Wl8y6A1m2nh9"
      }
    },
    {
      "cell_type": "code",
      "execution_count": 4,
      "metadata": {
        "id": "tVigRE_nTc_e"
      },
      "outputs": [],
      "source": [
        "df['Highly_rated_for'] = df['Highly_rated_for'].fillna(df['Highly_rated_for'].mode()[0])\n",
        "df['Critically_rated_for'] = df['Critically_rated_for'].fillna(df['Critically_rated_for'].mode()[0])"
      ]
    },
    {
      "cell_type": "code",
      "execution_count": null,
      "metadata": {
        "colab": {
          "base_uri": "https://localhost:8080/",
          "height": 578
        },
        "id": "7rhCT4WzfB0G",
        "outputId": "dfc00b5e-fd2b-4516-d7c9-2bb5c3522115"
      },
      "outputs": [
        {
          "output_type": "execute_result",
          "data": {
            "text/plain": [
              "<Axes: >"
            ]
          },
          "metadata": {},
          "execution_count": 6
        },
        {
          "output_type": "display_data",
          "data": {
            "text/plain": [
              "<Figure size 640x480 with 2 Axes>"
            ],
            "image/png": "[encoded data removed]"
          },
          "metadata": {}
        }
      ],
      "source": [
        "sb.heatmap(df.isnull())\n",
        "# heatmap of null values in each columns"
      ]
    },
    {
      "cell_type": "code",
      "execution_count": 5,
      "metadata": {
        "colab": {
          "base_uri": "https://localhost:8080/"
        },
        "id": "lgyw9pkkV_CN",
        "outputId": "57a2a103-473c-4cb9-869c-c460055fec7a"
      },
      "outputs": [
        {
          "output_type": "execute_result",
          "data": {
            "text/plain": [
              "641"
            ]
          },
          "metadata": {},
          "execution_count": 5
        }
      ],
      "source": [
        "# Check for duplicate rows\n",
        "df.duplicated().sum()"
      ]
    },
    {
      "cell_type": "code",
      "execution_count": 6,
      "metadata": {
        "colab": {
          "base_uri": "https://localhost:8080/"
        },
        "id": "HxgjfEPUdotU",
        "outputId": "91abaa73-91d5-4f0b-a7a5-15e7e9e49e2b"
      },
      "outputs": [
        {
          "output_type": "stream",
          "name": "stdout",
          "text": [
            "number of duplicate rows: 0\n"
          ]
        }
      ],
      "source": [
        "df = df.drop_duplicates()\n",
        "print(f'number of duplicate rows: {df.duplicated().sum()}')\n",
        "# remove duplicate rows"
      ]
    },
    {
      "cell_type": "code",
      "execution_count": 7,
      "metadata": {
        "colab": {
          "base_uri": "https://localhost:8080/"
        },
        "id": "9qyuzVkffJSU",
        "outputId": "0438f900-fc44-4107-ae77-aa47ba166023"
      },
      "outputs": [
        {
          "output_type": "execute_result",
          "data": {
            "text/plain": [
              "Company_name             object\n",
              "Description              object\n",
              "Ratings                 float64\n",
              "Highly_rated_for         object\n",
              "Critically_rated_for     object\n",
              "Total_reviews            object\n",
              "Avg_salary               object\n",
              "Interviews_taken         object\n",
              "Total_jobs_available     object\n",
              "Total_benefits           object\n",
              "dtype: object"
            ]
          },
          "metadata": {},
          "execution_count": 7
        }
      ],
      "source": [
        "df.dtypes"
      ]
    },
    {
      "cell_type": "markdown",
      "source": [
        "Convert the 'Total_reviews', 'Avg_salary', 'Interviews_taken', 'Total_jobs_available', and 'Total_benefits' columns to float"
      ],
      "metadata": {
        "id": "1g9vVh572v22"
      }
    },
    {
      "cell_type": "code",
      "execution_count": 8,
      "metadata": {
        "colab": {
          "base_uri": "https://localhost:8080/"
        },
        "id": "7pLkvSEnOGdz",
        "outputId": "e4ca50e5-4f61-4668-f5cc-9866abc869ec"
      },
      "outputs": [
        {
          "output_type": "stream",
          "name": "stdout",
          "text": [
            "Company_name             object\n",
            "Description              object\n",
            "Ratings                 float64\n",
            "Highly_rated_for         object\n",
            "Critically_rated_for     object\n",
            "Total_reviews           float64\n",
            "Avg_salary              float64\n",
            "Interviews_taken        float64\n",
            "Total_jobs_available    float64\n",
            "Total_benefits          float64\n",
            "dtype: object\n"
          ]
        }
      ],
      "source": [
        "df['Total_reviews'] = df['Total_reviews'].apply(lambda x: float(x[:-1]) * 1000 if isinstance(x, str) and x[-1] == 'k' and x != '--' else (float(x) if isinstance(x, str) and x != '--'  else np.nan))\n",
        "df['Avg_salary'] = df['Avg_salary'].apply(lambda x: float(x[:-1]) * 1000 if isinstance(x, str) and x[-1] == 'k' and x != '--' else (float(x) if isinstance(x, str) and x != '--'  else np.nan))\n",
        "df['Interviews_taken'] = df['Interviews_taken'].apply(lambda x: float(x[:-1]) * 1000 if isinstance(x, str) and x[-1] == 'k' and x != '--' else (float(x) if isinstance(x, str) and x != '--'  else np.nan))\n",
        "df['Total_jobs_available'] = df['Total_jobs_available'].apply(lambda x: float(x[:-1]) * 1000 if isinstance(x, str) and x[-1] == 'k' and x != '--' else (float(x) if isinstance(x, str) and x != '--'  else np.nan))\n",
        "df['Total_benefits'] = df['Total_benefits'].apply(lambda x: float(x[:-1]) * 1000 if isinstance(x, str) and x[-1] == 'k' and x != '--' else (float(x) if isinstance(x, str) and x != '--'  else np.nan))\n",
        "print(df.dtypes)"
      ]
    },
    {
      "cell_type": "code",
      "execution_count": 9,
      "metadata": {
        "colab": {
          "base_uri": "https://localhost:8080/"
        },
        "id": "ccVzQiPWPf0j",
        "outputId": "6de9004d-d0fa-423a-cba0-ad50f6a8e547"
      },
      "outputs": [
        {
          "output_type": "execute_result",
          "data": {
            "text/plain": [
              "Company_name               0\n",
              "Description                0\n",
              "Ratings                    0\n",
              "Highly_rated_for           0\n",
              "Critically_rated_for       0\n",
              "Total_reviews              0\n",
              "Avg_salary                 2\n",
              "Interviews_taken         191\n",
              "Total_jobs_available    3615\n",
              "Total_benefits            76\n",
              "dtype: int64"
            ]
          },
          "metadata": {},
          "execution_count": 9
        }
      ],
      "source": [
        "df.isnull().sum()"
      ]
    },
    {
      "cell_type": "markdown",
      "source": [
        "Fill the null values in the 'Total_jobs_available', 'Interviews_taken', 'Total_benefits', and 'Avg_salary' columns with the mean of each column"
      ],
      "metadata": {
        "id": "xw-7fRk_23zN"
      }
    },
    {
      "cell_type": "code",
      "source": [
        "df['Total_jobs_available'] = df['Total_jobs_available'].fillna(np.mean(list(df['Total_jobs_available'].dropna())))\n",
        "df['Interviews_taken'] = df['Interviews_taken'].fillna(df['Interviews_taken'].mean())\n",
        "df['Total_benefits'] = df['Total_benefits'].fillna(df['Total_benefits'].mean())\n",
        "df['Avg_salary'] = df['Avg_salary'].fillna(df['Avg_salary'].mean())"
      ],
      "metadata": {
        "id": "op7x2e7BrFFF"
      },
      "execution_count": 13,
      "outputs": []
    },
    {
      "cell_type": "markdown",
      "source": [
        "Removed unnecessary details from description"
      ],
      "metadata": {
        "id": "lyTf4Mnh8E6u"
      }
    },
    {
      "cell_type": "code",
      "source": [
        "df['Description'] = df['Description'].apply(lambda x: x.split('|')[0])\n",
        "df.head()"
      ],
      "metadata": {
        "colab": {
          "base_uri": "https://localhost:8080/",
          "height": 348
        },
        "id": "X1_2dmIA7aOk",
        "outputId": "ce520453-2df9-4164-dcc7-cb9bdc906c84"
      },
      "execution_count": 16,
      "outputs": [
        {
          "output_type": "execute_result",
          "data": {
            "text/plain": [
              "  Company_name                Description  Ratings  \\\n",
              "0          TCS  IT Services & Consulting       3.8   \n",
              "1    Accenture  IT Services & Consulting       4.0   \n",
              "2    Cognizant  IT Services & Consulting       3.9   \n",
              "3        Wipro  IT Services & Consulting       3.8   \n",
              "4    Capgemini  IT Services & Consulting       3.9   \n",
              "\n",
              "                                    Highly_rated_for  \\\n",
              "0                    Job Security, Work Life Balance   \n",
              "1  Company Culture, Skill Development / Learning,...   \n",
              "2                       Skill Development / Learning   \n",
              "3                                       Job Security   \n",
              "4  Job Security, Work Life Balance, Skill Develop...   \n",
              "\n",
              "                        Critically_rated_for  Total_reviews  Avg_salary  \\\n",
              "0  Promotions / Appraisal, Salary & Benefits        73100.0    856900.0   \n",
              "1                     Promotions / Appraisal        46400.0    584600.0   \n",
              "2                     Promotions / Appraisal        41700.0    561500.0   \n",
              "3  Promotions / Appraisal, Salary & Benefits        39200.0    427400.0   \n",
              "4  Promotions / Appraisal, Salary & Benefits        34000.0    414400.0   \n",
              "\n",
              "   Interviews_taken  Total_jobs_available  Total_benefits  \n",
              "0            6100.0                 847.0         11500.0  \n",
              "1            4300.0                9900.0          7100.0  \n",
              "2            3600.0                 460.0          5800.0  \n",
              "3            3700.0                 405.0          5000.0  \n",
              "4            2800.0                 719.0          4000.0  "
            ],
            "text/html": [
              "\n",
              "  <div id=\"df-dd325add-c657-4b5b-a115-5a9652ad2da4\" class=\"colab-df-container\">\n",
              "    <div>\n",
              "<style scoped>\n",
              "    .dataframe tbody tr th:only-of-type {\n",
              "        vertical-align: middle;\n",
              "    }\n",
              "\n",
              "    .dataframe tbody tr th {\n",
              "        vertical-align: top;\n",
              "    }\n",
              "\n",
              "    .dataframe thead th {\n",
              "        text-align: right;\n",
              "    }\n",
              "</style>\n",
              "<table border=\"1\" class=\"dataframe\">\n",
              "  <thead>\n",
              "    <tr style=\"text-align: right;\">\n",
              "      <th></th>\n",
              "      <th>Company_name</th>\n",
              "      <th>Description</th>\n",
              "      <th>Ratings</th>\n",
              "      <th>Highly_rated_for</th>\n",
              "      <th>Critically_rated_for</th>\n",
              "      <th>Total_reviews</th>\n",
              "      <th>Avg_salary</th>\n",
              "      <th>Interviews_taken</th>\n",
              "      <th>Total_jobs_available</th>\n",
              "      <th>Total_benefits</th>\n",
              "    </tr>\n",
              "  </thead>\n",
              "  <tbody>\n",
              "    <tr>\n",
              "      <th>0</th>\n",
              "      <td>TCS</td>\n",
              "      <td>IT Services &amp; Consulting</td>\n",
              "      <td>3.8</td>\n",
              "      <td>Job Security, Work Life Balance</td>\n",
              "      <td>Promotions / Appraisal, Salary &amp; Benefits</td>\n",
              "      <td>73100.0</td>\n",
              "      <td>856900.0</td>\n",
              "      <td>6100.0</td>\n",
              "      <td>847.0</td>\n",
              "      <td>11500.0</td>\n",
              "    </tr>\n",
              "    <tr>\n",
              "      <th>1</th>\n",
              "      <td>Accenture</td>\n",
              "      <td>IT Services &amp; Consulting</td>\n",
              "      <td>4.0</td>\n",
              "      <td>Company Culture, Skill Development / Learning,...</td>\n",
              "      <td>Promotions / Appraisal</td>\n",
              "      <td>46400.0</td>\n",
              "      <td>584600.0</td>\n",
              "      <td>4300.0</td>\n",
              "      <td>9900.0</td>\n",
              "      <td>7100.0</td>\n",
              "    </tr>\n",
              "    <tr>\n",
              "      <th>2</th>\n",
              "      <td>Cognizant</td>\n",
              "      <td>IT Services &amp; Consulting</td>\n",
              "      <td>3.9</td>\n",
              "      <td>Skill Development / Learning</td>\n",
              "      <td>Promotions / Appraisal</td>\n",
              "      <td>41700.0</td>\n",
              "      <td>561500.0</td>\n",
              "      <td>3600.0</td>\n",
              "      <td>460.0</td>\n",
              "      <td>5800.0</td>\n",
              "    </tr>\n",
              "    <tr>\n",
              "      <th>3</th>\n",
              "      <td>Wipro</td>\n",
              "      <td>IT Services &amp; Consulting</td>\n",
              "      <td>3.8</td>\n",
              "      <td>Job Security</td>\n",
              "      <td>Promotions / Appraisal, Salary &amp; Benefits</td>\n",
              "      <td>39200.0</td>\n",
              "      <td>427400.0</td>\n",
              "      <td>3700.0</td>\n",
              "      <td>405.0</td>\n",
              "      <td>5000.0</td>\n",
              "    </tr>\n",
              "    <tr>\n",
              "      <th>4</th>\n",
              "      <td>Capgemini</td>\n",
              "      <td>IT Services &amp; Consulting</td>\n",
              "      <td>3.9</td>\n",
              "      <td>Job Security, Work Life Balance, Skill Develop...</td>\n",
              "      <td>Promotions / Appraisal, Salary &amp; Benefits</td>\n",
              "      <td>34000.0</td>\n",
              "      <td>414400.0</td>\n",
              "      <td>2800.0</td>\n",
              "      <td>719.0</td>\n",
              "      <td>4000.0</td>\n",
              "    </tr>\n",
              "  </tbody>\n",
              "</table>\n",
              "</div>\n",
              "    <div class=\"colab-df-buttons\">\n",
              "\n",
              "  <div class=\"colab-df-container\">\n",
              "    <button class=\"colab-df-convert\" onclick=\"convertToInteractive('df-dd325add-c657-4b5b-a115-5a9652ad2da4')\"\n",
              "            title=\"Convert this dataframe to an interactive table.\"\n",
              "            style=\"display:none;\">\n",
              "\n",
              "  <svg xmlns=\"http://www.w3.org/2000/svg\" height=\"24px\" viewBox=\"0 -960 960 960\">\n",
              "    <path d=\"M120-120v-720h720v720H120Zm60-500h600v-160H180v160Zm220 220h160v-160H400v160Zm0 220h160v-160H400v160ZM180-400h160v-160H180v160Zm440 0h160v-160H620v160ZM180-180h160v-160H180v160Zm440 0h160v-160H620v160Z\"/>\n",
              "  </svg>\n",
              "    </button>\n",
              "\n",
              "  <style>\n",
              "    .colab-df-container {\n",
              "      display:flex;\n",
              "      gap: 12px;\n",
              "    }\n",
              "\n",
              "    .colab-df-convert {\n",
              "      background-color: #E8F0FE;\n",
              "      border: none;\n",
              "      border-radius: 50%;\n",
              "      cursor: pointer;\n",
              "      display: none;\n",
              "      fill: #1967D2;\n",
              "      height: 32px;\n",
              "      padding: 0 0 0 0;\n",
              "      width: 32px;\n",
              "    }\n",
              "\n",
              "    .colab-df-convert:hover {\n",
              "      background-color: #E2EBFA;\n",
              "      box-shadow: 0px 1px 2px rgba(60, 64, 67, 0.3), 0px 1px 3px 1px rgba(60, 64, 67, 0.15);\n",
              "      fill: #174EA6;\n",
              "    }\n",
              "\n",
              "    .colab-df-buttons div {\n",
              "      margin-bottom: 4px;\n",
              "    }\n",
              "\n",
              "    [theme=dark] .colab-df-convert {\n",
              "      background-color: #3B4455;\n",
              "      fill: #D2E3FC;\n",
              "    }\n",
              "\n",
              "    [theme=dark] .colab-df-convert:hover {\n",
              "      background-color: #434B5C;\n",
              "      box-shadow: 0px 1px 3px 1px rgba(0, 0, 0, 0.15);\n",
              "      filter: drop-shadow(0px 1px 2px rgba(0, 0, 0, 0.3));\n",
              "      fill: #FFFFFF;\n",
              "    }\n",
              "  </style>\n",
              "\n",
              "    <script>\n",
              "      const buttonEl =\n",
              "        document.querySelector('#df-dd325add-c657-4b5b-a115-5a9652ad2da4 button.colab-df-convert');\n",
              "      buttonEl.style.display =\n",
              "        google.colab.kernel.accessAllowed ? 'block' : 'none';\n",
              "\n",
              "      async function convertToInteractive(key) {\n",
              "        const element = document.querySelector('#df-dd325add-c657-4b5b-a115-5a9652ad2da4');\n",
              "        const dataTable =\n",
              "          await google.colab.kernel.invokeFunction('convertToInteractive',\n",
              "                                                    [key], {});\n",
              "        if (!dataTable) return;\n",
              "\n",
              "        const docLinkHtml = 'Like what you see? Visit the ' +\n",
              "          '<a target=\"_blank\" href=https://colab.research.google.com/notebooks/data_table.ipynb>data table notebook</a>'\n",
              "          + ' to learn more about interactive tables.';\n",
              "        element.innerHTML = '';\n",
              "        dataTable['output_type'] = 'display_data';\n",
              "        await google.colab.output.renderOutput(dataTable, element);\n",
              "        const docLink = document.createElement('div');\n",
              "        docLink.innerHTML = docLinkHtml;\n",
              "        element.appendChild(docLink);\n",
              "      }\n",
              "    </script>\n",
              "  </div>\n",
              "\n",
              "\n",
              "<div id=\"df-095c4e0b-faf7-4798-9cd3-7d0ab9203646\">\n",
              "  <button class=\"colab-df-quickchart\" onclick=\"quickchart('df-095c4e0b-faf7-4798-9cd3-7d0ab9203646')\"\n",
              "            title=\"Suggest charts\"\n",
              "            style=\"display:none;\">\n",
              "\n",
              "<svg xmlns=\"http://www.w3.org/2000/svg\" height=\"24px\"viewBox=\"0 0 24 24\"\n",
              "     width=\"24px\">\n",
              "    <g>\n",
              "        <path d=\"M19 3H5c-1.1 0-2 .9-2 2v14c0 1.1.9 2 2 2h14c1.1 0 2-.9 2-2V5c0-1.1-.9-2-2-2zM9 17H7v-7h2v7zm4 0h-2V7h2v10zm4 0h-2v-4h2v4z\"/>\n",
              "    </g>\n",
              "</svg>\n",
              "  </button>\n",
              "\n",
              "<style>\n",
              "  .colab-df-quickchart {\n",
              "      --bg-color: #E8F0FE;\n",
              "      --fill-color: #1967D2;\n",
              "      --hover-bg-color: #E2EBFA;\n",
              "      --hover-fill-color: #174EA6;\n",
              "      --disabled-fill-color: #AAA;\n",
              "      --disabled-bg-color: #DDD;\n",
              "  }\n",
              "\n",
              "  [theme=dark] .colab-df-quickchart {\n",
              "      --bg-color: #3B4455;\n",
              "      --fill-color: #D2E3FC;\n",
              "      --hover-bg-color: #434B5C;\n",
              "      --hover-fill-color: #FFFFFF;\n",
              "      --disabled-bg-color: #3B4455;\n",
              "      --disabled-fill-color: #666;\n",
              "  }\n",
              "\n",
              "  .colab-df-quickchart {\n",
              "    background-color: var(--bg-color);\n",
              "    border: none;\n",
              "    border-radius: 50%;\n",
              "    cursor: pointer;\n",
              "    display: none;\n",
              "    fill: var(--fill-color);\n",
              "    height: 32px;\n",
              "    padding: 0;\n",
              "    width: 32px;\n",
              "  }\n",
              "\n",
              "  .colab-df-quickchart:hover {\n",
              "    background-color: var(--hover-bg-color);\n",
              "    box-shadow: 0 1px 2px rgba(60, 64, 67, 0.3), 0 1px 3px 1px rgba(60, 64, 67, 0.15);\n",
              "    fill: var(--button-hover-fill-color);\n",
              "  }\n",
              "\n",
              "  .colab-df-quickchart-complete:disabled,\n",
              "  .colab-df-quickchart-complete:disabled:hover {\n",
              "    background-color: var(--disabled-bg-color);\n",
              "    fill: var(--disabled-fill-color);\n",
              "    box-shadow: none;\n",
              "  }\n",
              "\n",
              "  .colab-df-spinner {\n",
              "    border: 2px solid var(--fill-color);\n",
              "    border-color: transparent;\n",
              "    border-bottom-color: var(--fill-color);\n",
              "    animation:\n",
              "      spin 1s steps(1) infinite;\n",
              "  }\n",
              "\n",
              "  @keyframes spin {\n",
              "    0% {\n",
              "      border-color: transparent;\n",
              "      border-bottom-color: var(--fill-color);\n",
              "      border-left-color: var(--fill-color);\n",
              "    }\n",
              "    20% {\n",
              "      border-color: transparent;\n",
              "      border-left-color: var(--fill-color);\n",
              "      border-top-color: var(--fill-color);\n",
              "    }\n",
              "    30% {\n",
              "      border-color: transparent;\n",
              "      border-left-color: var(--fill-color);\n",
              "      border-top-color: var(--fill-color);\n",
              "      border-right-color: var(--fill-color);\n",
              "    }\n",
              "    40% {\n",
              "      border-color: transparent;\n",
              "      border-right-color: var(--fill-color);\n",
              "      border-top-color: var(--fill-color);\n",
              "    }\n",
              "    60% {\n",
              "      border-color: transparent;\n",
              "      border-right-color: var(--fill-color);\n",
              "    }\n",
              "    80% {\n",
              "      border-color: transparent;\n",
              "      border-right-color: var(--fill-color);\n",
              "      border-bottom-color: var(--fill-color);\n",
              "    }\n",
              "    90% {\n",
              "      border-color: transparent;\n",
              "      border-bottom-color: var(--fill-color);\n",
              "    }\n",
              "  }\n",
              "</style>\n",
              "\n",
              "  <script>\n",
              "    async function quickchart(key) {\n",
              "      const quickchartButtonEl =\n",
              "        document.querySelector('#' + key + ' button');\n",
              "      quickchartButtonEl.disabled = true;  // To prevent multiple clicks.\n",
              "      quickchartButtonEl.classList.add('colab-df-spinner');\n",
              "      try {\n",
              "        const charts = await google.colab.kernel.invokeFunction(\n",
              "            'suggestCharts', [key], {});\n",
              "      } catch (error) {\n",
              "        console.error('Error during call to suggestCharts:', error);\n",
              "      }\n",
              "      quickchartButtonEl.classList.remove('colab-df-spinner');\n",
              "      quickchartButtonEl.classList.add('colab-df-quickchart-complete');\n",
              "    }\n",
              "    (() => {\n",
              "      let quickchartButtonEl =\n",
              "        document.querySelector('#df-095c4e0b-faf7-4798-9cd3-7d0ab9203646 button');\n",
              "      quickchartButtonEl.style.display =\n",
              "        google.colab.kernel.accessAllowed ? 'block' : 'none';\n",
              "    })();\n",
              "  </script>\n",
              "</div>\n",
              "\n",
              "    </div>\n",
              "  </div>\n"
            ],
            "application/vnd.google.colaboratory.intrinsic+json": {
              "type": "dataframe",
              "variable_name": "df",
              "summary": "{\n  \"name\": \"df\",\n  \"rows\": 9359,\n  \"fields\": [\n    {\n      \"column\": \"Company_name\",\n      \"properties\": {\n        \"dtype\": \"string\",\n        \"num_unique_values\": 9355,\n        \"samples\": [\n          \"Alphamed Formulations\",\n          \"Fosroc Chemicals India\",\n          \"Mindcrest\"\n        ],\n        \"semantic_type\": \"\",\n        \"description\": \"\"\n      }\n    },\n    {\n      \"column\": \"Description\",\n      \"properties\": {\n        \"dtype\": \"category\",\n        \"num_unique_values\": 231,\n        \"samples\": [\n          \"Hyderabad / Secunderabad +8 more\",\n          \"Petrochemicals \",\n          \"Management Consulting \"\n        ],\n        \"semantic_type\": \"\",\n        \"description\": \"\"\n      }\n    },\n    {\n      \"column\": \"Ratings\",\n      \"properties\": {\n        \"dtype\": \"number\",\n        \"std\": 0.3848128757104848,\n        \"min\": 1.3,\n        \"max\": 5.0,\n        \"num_unique_values\": 34,\n        \"samples\": [\n          3.4,\n          3.0,\n          2.3\n        ],\n        \"semantic_type\": \"\",\n        \"description\": \"\"\n      }\n    },\n    {\n      \"column\": \"Highly_rated_for\",\n      \"properties\": {\n        \"dtype\": \"category\",\n        \"num_unique_values\": 253,\n        \"samples\": [\n          \"Work Life Balance, Company Culture, Promotions / Appraisal\",\n          \"Job Security, Skill Development / Learning, Company Culture\",\n          \"Skill Development / Learning, Company Culture, Work Satisfaction\"\n        ],\n        \"semantic_type\": \"\",\n        \"description\": \"\"\n      }\n    },\n    {\n      \"column\": \"Critically_rated_for\",\n      \"properties\": {\n        \"dtype\": \"category\",\n        \"num_unique_values\": 137,\n        \"samples\": [\n          \"Skill Development / Learning, Promotions / Appraisal, Job Security\",\n          \"Company Culture, Salary & Benefits\",\n          \"Promotions / Appraisal, Salary & Benefits, Company Culture\"\n        ],\n        \"semantic_type\": \"\",\n        \"description\": \"\"\n      }\n    },\n    {\n      \"column\": \"Total_reviews\",\n      \"properties\": {\n        \"dtype\": \"number\",\n        \"std\": 1679.8306809260446,\n        \"min\": 72.0,\n        \"max\": 73100.0,\n        \"num_unique_values\": 889,\n        \"samples\": [\n          715.0,\n          529.0,\n          7000.0\n        ],\n        \"semantic_type\": \"\",\n        \"description\": \"\"\n      }\n    },\n    {\n      \"column\": \"Avg_salary\",\n      \"properties\": {\n        \"dtype\": \"number\",\n        \"std\": 16360.56656707304,\n        \"min\": 2.0,\n        \"max\": 856900.0,\n        \"num_unique_values\": 1229,\n        \"samples\": [\n          432.0,\n          441.0,\n          11800.0\n        ],\n        \"semantic_type\": \"\",\n        \"description\": \"\"\n      }\n    },\n    {\n      \"column\": \"Interviews_taken\",\n      \"properties\": {\n        \"dtype\": \"number\",\n        \"std\": 139.43638054531192,\n        \"min\": 1.0,\n        \"max\": 6100.0,\n        \"num_unique_values\": 306,\n        \"samples\": [\n          83.0,\n          116.0,\n          111.0\n        ],\n        \"semantic_type\": \"\",\n        \"description\": \"\"\n      }\n    },\n    {\n      \"column\": \"Total_jobs_available\",\n      \"properties\": {\n        \"dtype\": \"number\",\n        \"std\": 138.5511732492024,\n        \"min\": 1.0,\n        \"max\": 9900.0,\n        \"num_unique_values\": 309,\n        \"samples\": [\n          102.0,\n          782.0,\n          116.0\n        ],\n        \"semantic_type\": \"\",\n        \"description\": \"\"\n      }\n    },\n    {\n      \"column\": \"Total_benefits\",\n      \"properties\": {\n        \"dtype\": \"number\",\n        \"std\": 234.16177044029823,\n        \"min\": 1.0,\n        \"max\": 11500.0,\n        \"num_unique_values\": 471,\n        \"samples\": [\n          698.0,\n          513.0,\n          880.0\n        ],\n        \"semantic_type\": \"\",\n        \"description\": \"\"\n      }\n    }\n  ]\n}"
            }
          },
          "metadata": {},
          "execution_count": 16
        }
      ]
    }
  ],
  "metadata": {
    "colab": {
      "provenance": []
    },
    "kernelspec": {
      "display_name": "Python 3",
      "name": "python3"
    },
    "language_info": {
      "name": "python"
    }
  },
  "nbformat": 4,
  "nbformat_minor": 0
}